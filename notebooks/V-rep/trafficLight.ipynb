{
 "nbformat": 4,
 "nbformat_minor": 2,
 "metadata": {
  "language_info": {
   "name": "python",
   "codemirror_mode": {
    "name": "ipython",
    "version": 3
   },
   "version": "3.7.4"
  },
  "orig_nbformat": 2,
  "file_extension": ".py",
  "mimetype": "text/x-python",
  "name": "python",
  "npconvert_exporter": "python",
  "pygments_lexer": "ipython3",
  "version": 3
 },
 "cells": [
  {
   "source": [
    "from python.utility.vrep import vrep\n",
    "import sys\n",
    "import numpy as np\n",
    "import matplotlib.pyplot as plt\n",
    "from skimage import draw, measure, data, color\n",
    "vrep.simxFinish(-1)\n",
    "#port 19999 doesn't work, 1999\n",
    "clientID = vrep.simxStart('127.0.0.1', 19997, True, True, 5000, 5)\n",
    "\n",
    "if clientID!= -1:\n",
    "    print(\"Connected to remote server\")\n",
    "    while clientID!=-1:\n",
    "        errorCode=vrep.simxStartSimulation(clientID,vrep.simx_opmode_oneshot_wait)\n",
    "        errorCode,cam=vrep.simxGetObjectHandle(clientID,'observeEnvir',vrep.simx_opmode_oneshot_wait)\n",
    "        errorCode,resolution,image=vrep.simxGetVisionSensorImage(clientID, cam, 0, vrep.simx_opmode_oneshot_wait)\n",
    "        pedaliKruti=0\n",
    "        #Convertaion string image to array\n",
    "        src =np.array(image, np.uint8)\n",
    "        src=np.resize(src,(resolution[0],resolution[1],3))\n",
    "        rImg=color.rgb2hsv(src)[...,0]<0.05\n",
    "        sims=color.rgb2hsv(src)[...,2]>0#Value component\n",
    "        #Image include Hue and Value\n",
    "        HnV=rImg&sims\n",
    "        #measurement of colored region\n",
    "        red_label=measure.label(HnV)\n",
    "        for region_prop in measure.regionprops(red_label):\n",
    "            if((region_prop.area/rImg.size)>0.1):\n",
    "                pedaliKruti=region_prop.area/rImg.size\n",
    "                print(pedaliKruti)\n",
    "        #Sending signal to V-rep\n",
    "        if pedaliKruti>0.18:\n",
    "            velosiped=vrep.simxSetIntegerSignal(clientID,'OmaevaNani',0,vrep.simx_opmode_oneshot_wait)\n",
    "        else:\n",
    "            velosiped=vrep.simxSetIntegerSignal(clientID,'OmaevaNani',5,vrep.simx_opmode_oneshot_wait)\n",
    "        plt.imshow(HnV)\n",
    "        plt.show()\n",
    "\n",
    "else:\n",
    "    print('Connection not successful')\n",
    "    sys.exit('Could not connect')\n",
    ""
   ],
   "cell_type": "code",
   "outputs": [
    {
     "output_type": "stream",
     "name": "stdout",
     "text": "Connection not successful\nC:\\Users\\raige\\Anaconda3\\lib\\site-packages\\IPython\\core\\interactiveshell.py:3334: UserWarning: To exit: use 'exit', 'quit', or Ctrl-D.\n  warn(\"To exit: use 'exit', 'quit', or Ctrl-D.\", stacklevel=1)\n"
    },
    {
     "output_type": "error",
     "ename": "SystemExit",
     "evalue": "Could not connect",
     "traceback": [
      "An exception has occurred, use %tb to see the full traceback.\n",
      "\u001b[1;31mSystemExit\u001b[0m\u001b[1;31m:\u001b[0m Could not connect\n"
     ]
    }
   ],
   "metadata": {},
   "execution_count": 10
  },
  {
   "cell_type": "code",
   "execution_count": null,
   "metadata": {},
   "outputs": [],
   "source": []
  }
 ]
}