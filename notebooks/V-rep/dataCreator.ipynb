{
 "cells": [
  {
   "cell_type": "code",
   "execution_count": 3,
   "metadata": {},
   "outputs": [
    {
     "ename": "SyntaxError",
     "evalue": "invalid syntax (<ipython-input-3-86562aa3e741>, line 29)",
     "output_type": "error",
     "traceback": [
      "\u001b[1;36m  File \u001b[1;32m\"<ipython-input-3-86562aa3e741>\"\u001b[1;36m, line \u001b[1;32m29\u001b[0m\n\u001b[1;33m    c.save(\"color\" + (str)counter + \".jpeg\")\u001b[0m\n\u001b[1;37m                                ^\u001b[0m\n\u001b[1;31mSyntaxError\u001b[0m\u001b[1;31m:\u001b[0m invalid syntax\n"
     ]
    }
   ],
   "source": [
    "from python.utility.vrep import vrep\n",
    "import sys\n",
    "import numpy as np\n",
    "import matplotlib.pyplot as plt\n",
    "from skimage import draw, measure, data, color\n",
    "import PIL\n",
    "vrep.simxFinish(-1)\n",
    "#port 19999 doesn't work, 1999\n",
    "clientID = vrep.simxStart('127.0.0.1', 19997, True, True, 5000, 5)\n",
    "\n",
    "if clientID!= -1:\n",
    "    counter=0\n",
    "    print(\"Connected to remote server\")\n",
    "    while clientID!=-1:\n",
    "        errorCode=vrep.simxStartSimulation(clientID,vrep.simx_opmode_oneshot_wait)\n",
    "        errorCode,cam=vrep.simxGetObjectHandle(clientID,'observeEnvir',vrep.simx_opmode_oneshot_wait)\n",
    "        errorCode,resolution,image=vrep.simxGetVisionSensorImage(clientID, cam, 0, vrep.simx_opmode_oneshot_wait)\n",
    "        pedaliKruti=0\n",
    "        #Convertaion string image to array\n",
    "        src =np.array(image, np.uint8)\n",
    "        src=np.resize(src,(resolution[0],resolution[1],3))\n",
    "        rImg=color.rgb2hsv(src)[...,0]>0.04\n",
    "        sImg=color.rgb2hsv(src)[...,1]>0.3\n",
    "        vims=color.rgb2hsv(src)[...,2]>0.2#Value component\n",
    "        #Image include Hue and Value\n",
    "        HnV=rImg&vims&sImg\n",
    "        c=PIL.Image.fromarray(src)\n",
    "        b=PIL.Image.fromarray(HnV)\n",
    "        c.save(\"color\" + str(counter) + \".jpeg\")\n",
    "        b.save(\"white\" + str(counter) + \".jpeg\")\n",
    "        plt.imshow(HnV)\n",
    "        plt.show()\n",
    "        counter+=1\n",
    "\n",
    "else:\n",
    "    print('Connection not successful')\n",
    "    sys.exit('Could not connect')\n"
   ]
  },
  {
   "cell_type": "code",
   "execution_count": null,
   "metadata": {},
   "outputs": [],
   "source": []
  }
 ],
 "metadata": {
  "file_extension": ".py",
  "kernelspec": {
   "display_name": "Python 3",
   "language": "python",
   "name": "python3"
  },
  "language_info": {
   "codemirror_mode": {
    "name": "ipython",
    "version": 3
   },
   "file_extension": ".py",
   "mimetype": "text/x-python",
   "name": "python",
   "nbconvert_exporter": "python",
   "pygments_lexer": "ipython3",
   "version": "3.7.4"
  },
  "mimetype": "text/x-python",
  "name": "python",
  "npconvert_exporter": "python",
  "pygments_lexer": "ipython3",
  "version": 3
 },
 "nbformat": 4,
 "nbformat_minor": 2
}